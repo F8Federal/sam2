{
 "cells": [
  {
   "cell_type": "markdown",
   "metadata": {},
   "source": []
  },
  {
   "cell_type": "code",
   "execution_count": 23,
   "metadata": {},
   "outputs": [],
   "source": [
    "import os\n",
    "import cv2\n",
    "import numpy as np\n",
    "from PIL import Image\n",
    "import torch\n",
    "from sam2.build_sam import build_sam2\n",
    "from sam2.automatic_mask_generator import SAM2AutomaticMaskGenerator\n",
    "import logging\n",
    "from tqdm import tqdm\n",
    "import json\n",
    "\n",
    "# Assuming sam_scripts is in the same parent directory or PYTHONPATH includes it\n",
    "from sam2_scripts.util import generate_polygons_from_masks"
   ]
  },
  {
   "cell_type": "markdown",
   "metadata": {},
   "source": [
    "copy code here from batch_procesor; see how it looks; and correct acc."
   ]
  },
  {
   "cell_type": "code",
   "execution_count": 24,
   "metadata": {},
   "outputs": [],
   "source": [
    "# Configure logging\n",
    "logging.basicConfig(level=logging.INFO, format='%(asctime)s - %(levelname)s - %(message)s')\n",
    "\n",
    "SUPPORTED_EXTENSIONS = ('.png', '.jpg', '.jpeg', '.bmp', '.tif', '.tiff')"
   ]
  },
  {
   "cell_type": "code",
   "execution_count": 25,
   "metadata": {},
   "outputs": [],
   "source": [
    "def select_device(device_str='auto'):\n",
    "    if device_str == 'cuda' and torch.cuda.is_available():\n",
    "        return torch.device('cuda')\n",
    "    # Add MPS check if needed\n",
    "    elif device_str == 'mps' and torch.backends.mps.is_available():\n",
    "        return torch.device('mps')\n",
    "    else:\n",
    "        return torch.device('cpu')"
   ]
  },
  {
   "cell_type": "code",
   "execution_count": 26,
   "metadata": {},
   "outputs": [],
   "source": [
    "image_dir = '/Users/jamesemilian/Desktop/cronus-ai/figure8/anomaly_detect/data/coco_data_prep/coco_val_1pct/data'\n",
    "model_config = \"configs/sam2.1/sam2.1_hiera_t.yaml\" # Default model config\n",
    "model_checkpoint = \"checkpoints/sam2.1_hiera_tiny.pt\" # Default checkpoint\n",
    "device_str = \"auto\"\n",
    "mask_gen_kwargs = None"
   ]
  },
  {
   "cell_type": "code",
   "execution_count": 32,
   "metadata": {},
   "outputs": [
    {
     "name": "stderr",
     "output_type": "stream",
     "text": [
      "2025-04-20 12:04:48,615 - INFO - Using device: cpu\n",
      "2025-04-20 12:04:48,616 - INFO - Loading SAM 2 model...\n",
      "2025-04-20 12:04:48,911 - INFO - Loaded checkpoint sucessfully\n",
      "2025-04-20 12:04:48,926 - INFO - Model loaded successfully.\n",
      "2025-04-20 12:04:48,927 - INFO - Found 245 images to process.\n"
     ]
    }
   ],
   "source": [
    "# Handle mask generator arguments - use defaults similar to segment.py 'dev'\n",
    "if mask_gen_kwargs is None:\n",
    "        mask_gen_kwargs = {\n",
    "        \"points_per_side\": 32,\n",
    "        \"pred_iou_thresh\": 0.86,\n",
    "        \"stability_score_thresh\": 0.92,\n",
    "        \"crop_n_layers\": 1,\n",
    "        \"crop_n_points_downscale_factor\": 2,\n",
    "        \"min_mask_region_area\": 100, # Default value from SAM\n",
    "        \"output_mode\": \"binary_mask\" # Ensure we get masks for polygon conversion\n",
    "    }\n",
    "\n",
    "device = select_device(device_str=device_str)\n",
    "logging.info(f\"Using device: {device}\")\n",
    "\n",
    "try:\n",
    "    logging.info(\"Loading SAM 2 model...\")\n",
    "    sam2 = build_sam2(model_config, model_checkpoint, device=device, apply_postprocessing=False)\n",
    "    # mask_generator = Sam2AutomaticMaskGenerator(model, **mask_gen_kwargs)\n",
    "    mask_generator = SAM2AutomaticMaskGenerator(sam2)\n",
    "    logging.info(\"Model loaded successfully.\")\n",
    "except Exception as e:\n",
    "    logging.error(f\"Failed to load SAM 2 model: {e}\")\n",
    "\n",
    "all_masks_data = {}\n",
    "image_files = [f for f in os.listdir(image_dir) if f.lower().endswith(SUPPORTED_EXTENSIONS)]\n",
    "\n",
    "if not image_files:\n",
    "    logging.warning(f\"No supported image files found in {image_dir}\")\n",
    "\n",
    "logging.info(f\"Found {len(image_files)} images to process.\")\n"
   ]
  },
  {
   "cell_type": "code",
   "execution_count": 33,
   "metadata": {},
   "outputs": [],
   "source": [
    "image_files = image_files[0:3]"
   ]
  },
  {
   "cell_type": "code",
   "execution_count": 34,
   "metadata": {},
   "outputs": [
    {
     "data": {
      "text/plain": [
       "['000000107814.jpg', '000000443537.jpg', '000000127905.jpg']"
      ]
     },
     "execution_count": 34,
     "metadata": {},
     "output_type": "execute_result"
    }
   ],
   "source": [
    "image_files"
   ]
  },
  {
   "cell_type": "code",
   "execution_count": 35,
   "metadata": {},
   "outputs": [
    {
     "name": "stderr",
     "output_type": "stream",
     "text": [
      "Processing images:   0%|          | 0/3 [00:00<?, ?it/s]2025-04-20 12:04:55,021 - INFO - Processing 000000107814.jpg...\n",
      "2025-04-20 12:04:55,026 - INFO - Generating masks for 000000107814.jpg...\n",
      "2025-04-20 12:04:55,026 - INFO - For numpy array image, we assume (HxWxC) format\n",
      "2025-04-20 12:04:55,042 - INFO - Computing image embeddings for the provided image...\n"
     ]
    },
    {
     "name": "stdout",
     "output_type": "stream",
     "text": [
      "000000107814.jpg\n"
     ]
    },
    {
     "name": "stderr",
     "output_type": "stream",
     "text": [
      "2025-04-20 12:04:55,721 - INFO - Image embeddings computed.\n",
      "2025-04-20 12:05:22,248 - INFO - Generated 1 raw masks for 000000107814.jpg.\n",
      "2025-04-20 12:05:22,249 - INFO - Converting masks to polygons for 000000107814.jpg...\n",
      "Processing images:   0%|          | 0/3 [00:27<?, ?it/s]\n"
     ]
    },
    {
     "ename": "TypeError",
     "evalue": "generate_polygons_from_masks() missing 1 required positional argument: 'image_height'",
     "output_type": "error",
     "traceback": [
      "\u001b[0;31m---------------------------------------------------------------------------\u001b[0m",
      "\u001b[0;31mTypeError\u001b[0m                                 Traceback (most recent call last)",
      "Cell \u001b[0;32mIn[35], line 27\u001b[0m\n\u001b[1;32m     25\u001b[0m \u001b[38;5;66;03m# Process masks to get polygons, base64 etc.\u001b[39;00m\n\u001b[1;32m     26\u001b[0m logging\u001b[38;5;241m.\u001b[39minfo(\u001b[38;5;124mf\u001b[39m\u001b[38;5;124m\"\u001b[39m\u001b[38;5;124mConverting masks to polygons for \u001b[39m\u001b[38;5;132;01m{\u001b[39;00mimage_name\u001b[38;5;132;01m}\u001b[39;00m\u001b[38;5;124m...\u001b[39m\u001b[38;5;124m\"\u001b[39m)\n\u001b[0;32m---> 27\u001b[0m processed_masks \u001b[38;5;241m=\u001b[39m \u001b[43mgenerate_polygons_from_masks\u001b[49m\u001b[43m(\u001b[49m\u001b[43mraw_masks\u001b[49m\u001b[43m,\u001b[49m\u001b[43m \u001b[49m\u001b[43mimage_shape\u001b[49m\u001b[43m)\u001b[49m\n\u001b[1;32m     28\u001b[0m logging\u001b[38;5;241m.\u001b[39minfo(\u001b[38;5;124mf\u001b[39m\u001b[38;5;124m\"\u001b[39m\u001b[38;5;124mSuccessfully processed masks for \u001b[39m\u001b[38;5;132;01m{\u001b[39;00mimage_name\u001b[38;5;132;01m}\u001b[39;00m\u001b[38;5;124m.\u001b[39m\u001b[38;5;124m\"\u001b[39m)\n\u001b[1;32m     30\u001b[0m all_masks_data[image_name] \u001b[38;5;241m=\u001b[39m processed_masks\n",
      "\u001b[0;31mTypeError\u001b[0m: generate_polygons_from_masks() missing 1 required positional argument: 'image_height'"
     ]
    }
   ],
   "source": [
    "\n",
    "for filename in tqdm(image_files, desc=\"Processing images\"):\n",
    "    image_path = os.path.join(image_dir, filename)\n",
    "    image_name = os.path.basename(filename) # Use basename as key\n",
    "    logging.info(f\"Processing {image_name}...\")\n",
    "    print(image_name)\n",
    "    # Load image using OpenCV (consistent with segment.py)\n",
    "    image = cv2.imread(image_path)\n",
    "    if image is None:\n",
    "        logging.warning(f\"Could not read image: {image_path}. Skipping.\")\n",
    "        continue\n",
    "    # Convert BGR to RGB\n",
    "    image_rgb = cv2.cvtColor(image, cv2.COLOR_BGR2RGB)\n",
    "    image_shape = image_rgb.shape[:2] # (height, width)\n",
    "\n",
    "    logging.info(f\"Generating masks for {image_name}...\")\n",
    "    # Generate raw masks\n",
    "    raw_masks = mask_generator.generate(image_rgb)\n",
    "    logging.info(f\"Generated {len(raw_masks)} raw masks for {image_name}.\")\n",
    "\n",
    "    if not raw_masks:\n",
    "        logging.warning(f\"No masks generated for {image_name}. Skipping polygon conversion.\")\n",
    "        all_masks_data[image_name] = []\n",
    "        continue\n",
    "\n",
    "    # Process masks to get polygons, base64 etc.\n",
    "    logging.info(f\"Converting masks to polygons for {image_name}...\")\n",
    "    processed_masks = generate_polygons_from_masks(raw_masks, image_shape)\n",
    "    logging.info(f\"Successfully processed masks for {image_name}.\")\n",
    "\n",
    "    all_masks_data[image_name] = processed_masks"
   ]
  },
  {
   "cell_type": "code",
   "execution_count": 37,
   "metadata": {},
   "outputs": [],
   "source": [
    "# OK, this API call is just stuck! \n",
    "# clean up this code and run to see if it gets me masks"
   ]
  },
  {
   "cell_type": "code",
   "execution_count": null,
   "metadata": {},
   "outputs": [],
   "source": [
    "\n",
    "# environment = os.getenv(\"ENV\", \"prod\")\n",
    "# device = select_device()\n",
    "\n",
    "# print(\"SEGMENT_SELECTED_DEVICE:\", device)\n",
    "\n",
    "# input = request.get_json()\n",
    "# image_url = input[\"image\"]\n",
    "# storage_token = input[\"storageRefsToken\"]\n",
    "\n",
    "# cache_file_path = generate_cache_file_path(image_url)\n",
    "\n",
    "# try:\n",
    "#     response = requests.get(image_url)\n",
    "\n",
    "#     print(f\"Image URL Response Code: {response.status_code}\")\n",
    "\n",
    "image_dir = '/Users/jamesemilian/Desktop/cronus-ai/figure8/anomaly_detect/data/coco_data_prep/coco_val_1pct/data'\n",
    "model_config = \"configs/sam2.1/sam2.1_hiera_t.yaml\" # Default model config\n",
    "model_checkpoint = \"checkpoints/sam2.1_hiera_tiny.pt\" # Default checkpoint\n",
    "device_str = \"auto\"\n",
    "mask_gen_kwargs = None\n",
    "\n",
    "image = image_rgb\n",
    "image_width, image_height = image.size\n",
    "image_np = np.array(image)\n",
    "\n",
    "print(\"Start Mask Generator\")\n",
    "# print(\"Cache File Path\", cache_file_path)\n",
    "\n",
    "# has_cached_data = fetch_from_cds(cache_file_path, storage_token)\n",
    "# if has_cached_data is not None:\n",
    "#     sam_result = has_cached_data\n",
    "# else:\n",
    "    sam2 = build_sam2(\n",
    "        model_config, model_checkpoint, device=device, apply_postprocessing=False\n",
    "    )\n",
    "\n",
    "    if environment == \"dev\":\n",
    "        mask_generator = SAM2AutomaticMaskGenerator(sam2)\n",
    "    else:\n",
    "        # This configuration generates better masks\n",
    "        # However, without using cuda there is a performance issue\n",
    "        # Since not all devices support cuda\n",
    "        # Only prod need to use this configuration\n",
    "        mask_generator = SAM2AutomaticMaskGenerator(\n",
    "            model=sam2,\n",
    "            points_per_side=64,\n",
    "            points_per_batch=128,\n",
    "            pred_iou_thresh=0.7,\n",
    "            stability_score_thresh=0.92,\n",
    "            stability_score_offset=0.7,\n",
    "            crop_n_layers=1,\n",
    "            box_nms_thresh=0.7,\n",
    "            crop_n_points_downscale_factor=2,\n",
    "            min_mask_region_area=25.0,\n",
    "            use_m2m=True,\n",
    "        )\n",
    "\n",
    "    sam_result = mask_generator.generate(image_np)\n",
    "    save_to_cds(cache_file_path, sam_result, storage_token)\n",
    "\n",
    "print(\"Mask Generator Finished\")\n",
    "\n",
    "mask_data_list = []\n",
    "for idx, mask_data in enumerate(sam_result):\n",
    "    mask_info = {\n",
    "        \"id\": idx,\n",
    "        \"bounding_boxes\": mask_data[\"bbox\"],\n",
    "        \"point_coords\": mask_data[\"point_coords\"],\n",
    "        \"segmentation\": mask_data[\"segmentation\"],\n",
    "    }\n",
    "    mask_data_list.append(mask_info)\n",
    "\n",
    "print(\"Generate polygons from masks\", len(mask_data_list))\n",
    "valid_polygons = generate_polygons_from_masks(\n",
    "    mask_data_list, image_width, image_height\n",
    ")\n",
    "\n",
    "final_response = {\"masks\": valid_polygons}\n",
    "\n",
    "return final_response\n",
    "\n",
    "except Exception as e:\n",
    "message = f\"Failed to predict segmentation: {e}\"\n",
    "return build_response_error(message)"
   ]
  },
  {
   "cell_type": "code",
   "execution_count": 38,
   "metadata": {},
   "outputs": [
    {
     "data": {
      "text/plain": [
       "(427, 640, 3)"
      ]
     },
     "execution_count": 38,
     "metadata": {},
     "output_type": "execute_result"
    }
   ],
   "source": [
    "image_rgb.shape"
   ]
  },
  {
   "cell_type": "markdown",
   "metadata": {},
   "source": []
  }
 ],
 "metadata": {
  "language_info": {
   "name": "python"
  }
 },
 "nbformat": 4,
 "nbformat_minor": 2
}
