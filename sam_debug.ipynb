{
 "cells": [
  {
   "cell_type": "markdown",
   "metadata": {},
   "source": []
  },
  {
   "cell_type": "code",
   "execution_count": 23,
   "metadata": {},
   "outputs": [],
   "source": [
    "import os\n",
    "import cv2\n",
    "import numpy as np\n",
    "from PIL import Image\n",
    "import torch\n",
    "from sam2.build_sam import build_sam2\n",
    "from sam2.automatic_mask_generator import SAM2AutomaticMaskGenerator\n",
    "import logging\n",
    "from tqdm import tqdm\n",
    "import json\n",
    "\n",
    "# Assuming sam_scripts is in the same parent directory or PYTHONPATH includes it\n",
    "from sam2_scripts.util import generate_polygons_from_masks"
   ]
  },
  {
   "cell_type": "markdown",
   "metadata": {},
   "source": [
    "copy code here from batch_procesor; see how it looks; and correct acc."
   ]
  },
  {
   "cell_type": "code",
   "execution_count": 24,
   "metadata": {},
   "outputs": [],
   "source": [
    "# Configure logging\n",
    "logging.basicConfig(level=logging.INFO, format='%(asctime)s - %(levelname)s - %(message)s')\n",
    "\n",
    "SUPPORTED_EXTENSIONS = ('.png', '.jpg', '.jpeg', '.bmp', '.tif', '.tiff')"
   ]
  },
  {
   "cell_type": "code",
   "execution_count": 25,
   "metadata": {},
   "outputs": [],
   "source": [
    "def select_device(device_str='auto'):\n",
    "    if device_str == 'cuda' and torch.cuda.is_available():\n",
    "        return torch.device('cuda')\n",
    "    # Add MPS check if needed\n",
    "    elif device_str == 'mps' and torch.backends.mps.is_available():\n",
    "        return torch.device('mps')\n",
    "    else:\n",
    "        return torch.device('cpu')"
   ]
  },
  {
   "cell_type": "code",
   "execution_count": 26,
   "metadata": {},
   "outputs": [],
   "source": [
    "image_dir = '/Users/jamesemilian/Desktop/cronus-ai/figure8/anomaly_detect/data/coco_data_prep/coco_val_1pct/data'\n",
    "model_config = \"configs/sam2.1/sam2.1_hiera_t.yaml\" # Default model config\n",
    "model_checkpoint = \"checkpoints/sam2.1_hiera_tiny.pt\" # Default checkpoint\n",
    "device_str = \"auto\"\n",
    "mask_gen_kwargs = None"
   ]
  },
  {
   "cell_type": "code",
   "execution_count": 32,
   "metadata": {},
   "outputs": [
    {
     "name": "stderr",
     "output_type": "stream",
     "text": [
      "2025-04-20 12:04:48,615 - INFO - Using device: cpu\n",
      "2025-04-20 12:04:48,616 - INFO - Loading SAM 2 model...\n",
      "2025-04-20 12:04:48,911 - INFO - Loaded checkpoint sucessfully\n",
      "2025-04-20 12:04:48,926 - INFO - Model loaded successfully.\n",
      "2025-04-20 12:04:48,927 - INFO - Found 245 images to process.\n"
     ]
    }
   ],
   "source": [
    "# Handle mask generator arguments - use defaults similar to segment.py 'dev'\n",
    "if mask_gen_kwargs is None:\n",
    "        mask_gen_kwargs = {\n",
    "        \"points_per_side\": 32,\n",
    "        \"pred_iou_thresh\": 0.86,\n",
    "        \"stability_score_thresh\": 0.92,\n",
    "        \"crop_n_layers\": 1,\n",
    "        \"crop_n_points_downscale_factor\": 2,\n",
    "        \"min_mask_region_area\": 100, # Default value from SAM\n",
    "        \"output_mode\": \"binary_mask\" # Ensure we get masks for polygon conversion\n",
    "    }\n",
    "\n",
    "device = select_device(device_str=device_str)\n",
    "logging.info(f\"Using device: {device}\")\n",
    "\n",
    "try:\n",
    "    logging.info(\"Loading SAM 2 model...\")\n",
    "    sam2 = build_sam2(model_config, model_checkpoint, device=device, apply_postprocessing=False)\n",
    "    # mask_generator = Sam2AutomaticMaskGenerator(model, **mask_gen_kwargs)\n",
    "    mask_generator = SAM2AutomaticMaskGenerator(sam2)\n",
    "    logging.info(\"Model loaded successfully.\")\n",
    "except Exception as e:\n",
    "    logging.error(f\"Failed to load SAM 2 model: {e}\")\n",
    "\n",
    "all_masks_data = {}\n",
    "image_files = [f for f in os.listdir(image_dir) if f.lower().endswith(SUPPORTED_EXTENSIONS)]\n",
    "\n",
    "if not image_files:\n",
    "    logging.warning(f\"No supported image files found in {image_dir}\")\n",
    "\n",
    "logging.info(f\"Found {len(image_files)} images to process.\")\n"
   ]
  },
  {
   "cell_type": "code",
   "execution_count": 33,
   "metadata": {},
   "outputs": [],
   "source": [
    "image_files = image_files[0:3]"
   ]
  },
  {
   "cell_type": "code",
   "execution_count": 34,
   "metadata": {},
   "outputs": [
    {
     "data": {
      "text/plain": [
       "['000000107814.jpg', '000000443537.jpg', '000000127905.jpg']"
      ]
     },
     "execution_count": 34,
     "metadata": {},
     "output_type": "execute_result"
    }
   ],
   "source": [
    "image_files"
   ]
  },
  {
   "cell_type": "code",
   "execution_count": 35,
   "metadata": {},
   "outputs": [
    {
     "name": "stderr",
     "output_type": "stream",
     "text": [
      "Processing images:   0%|          | 0/3 [00:00<?, ?it/s]2025-04-20 12:04:55,021 - INFO - Processing 000000107814.jpg...\n",
      "2025-04-20 12:04:55,026 - INFO - Generating masks for 000000107814.jpg...\n",
      "2025-04-20 12:04:55,026 - INFO - For numpy array image, we assume (HxWxC) format\n",
      "2025-04-20 12:04:55,042 - INFO - Computing image embeddings for the provided image...\n"
     ]
    },
    {
     "name": "stdout",
     "output_type": "stream",
     "text": [
      "000000107814.jpg\n"
     ]
    },
    {
     "name": "stderr",
     "output_type": "stream",
     "text": [
      "2025-04-20 12:04:55,721 - INFO - Image embeddings computed.\n",
      "2025-04-20 12:05:22,248 - INFO - Generated 1 raw masks for 000000107814.jpg.\n",
      "2025-04-20 12:05:22,249 - INFO - Converting masks to polygons for 000000107814.jpg...\n",
      "Processing images:   0%|          | 0/3 [00:27<?, ?it/s]\n"
     ]
    },
    {
     "ename": "TypeError",
     "evalue": "generate_polygons_from_masks() missing 1 required positional argument: 'image_height'",
     "output_type": "error",
     "traceback": [
      "\u001b[0;31m---------------------------------------------------------------------------\u001b[0m",
      "\u001b[0;31mTypeError\u001b[0m                                 Traceback (most recent call last)",
      "Cell \u001b[0;32mIn[35], line 27\u001b[0m\n\u001b[1;32m     25\u001b[0m \u001b[38;5;66;03m# Process masks to get polygons, base64 etc.\u001b[39;00m\n\u001b[1;32m     26\u001b[0m logging\u001b[38;5;241m.\u001b[39minfo(\u001b[38;5;124mf\u001b[39m\u001b[38;5;124m\"\u001b[39m\u001b[38;5;124mConverting masks to polygons for \u001b[39m\u001b[38;5;132;01m{\u001b[39;00mimage_name\u001b[38;5;132;01m}\u001b[39;00m\u001b[38;5;124m...\u001b[39m\u001b[38;5;124m\"\u001b[39m)\n\u001b[0;32m---> 27\u001b[0m processed_masks \u001b[38;5;241m=\u001b[39m \u001b[43mgenerate_polygons_from_masks\u001b[49m\u001b[43m(\u001b[49m\u001b[43mraw_masks\u001b[49m\u001b[43m,\u001b[49m\u001b[43m \u001b[49m\u001b[43mimage_shape\u001b[49m\u001b[43m)\u001b[49m\n\u001b[1;32m     28\u001b[0m logging\u001b[38;5;241m.\u001b[39minfo(\u001b[38;5;124mf\u001b[39m\u001b[38;5;124m\"\u001b[39m\u001b[38;5;124mSuccessfully processed masks for \u001b[39m\u001b[38;5;132;01m{\u001b[39;00mimage_name\u001b[38;5;132;01m}\u001b[39;00m\u001b[38;5;124m.\u001b[39m\u001b[38;5;124m\"\u001b[39m)\n\u001b[1;32m     30\u001b[0m all_masks_data[image_name] \u001b[38;5;241m=\u001b[39m processed_masks\n",
      "\u001b[0;31mTypeError\u001b[0m: generate_polygons_from_masks() missing 1 required positional argument: 'image_height'"
     ]
    }
   ],
   "source": [
    "\n",
    "for filename in tqdm(image_files, desc=\"Processing images\"):\n",
    "    image_path = os.path.join(image_dir, filename)\n",
    "    image_name = os.path.basename(filename) # Use basename as key\n",
    "    logging.info(f\"Processing {image_name}...\")\n",
    "    print(image_name)\n",
    "    # Load image using OpenCV (consistent with segment.py)\n",
    "    image = cv2.imread(image_path)\n",
    "    if image is None:\n",
    "        logging.warning(f\"Could not read image: {image_path}. Skipping.\")\n",
    "        continue\n",
    "    # Convert BGR to RGB\n",
    "    image_rgb = cv2.cvtColor(image, cv2.COLOR_BGR2RGB)\n",
    "    image_shape = image_rgb.shape[:2] # (height, width)\n",
    "\n",
    "    logging.info(f\"Generating masks for {image_name}...\")\n",
    "    # Generate raw masks\n",
    "    raw_masks = mask_generator.generate(image_rgb)\n",
    "    logging.info(f\"Generated {len(raw_masks)} raw masks for {image_name}.\")\n",
    "\n",
    "    if not raw_masks:\n",
    "        logging.warning(f\"No masks generated for {image_name}. Skipping polygon conversion.\")\n",
    "        all_masks_data[image_name] = []\n",
    "        continue\n",
    "\n",
    "    # Process masks to get polygons, base64 etc.\n",
    "    logging.info(f\"Converting masks to polygons for {image_name}...\")\n",
    "    processed_masks = generate_polygons_from_masks(raw_masks, image_shape)\n",
    "    logging.info(f\"Successfully processed masks for {image_name}.\")\n",
    "\n",
    "    all_masks_data[image_name] = processed_masks"
   ]
  },
  {
   "cell_type": "code",
   "execution_count": 37,
   "metadata": {},
   "outputs": [],
   "source": [
    "# OK, this API call is just stuck! \n",
    "# clean up this code and run to see if it gets me masks"
   ]
  },
  {
   "cell_type": "code",
   "execution_count": null,
   "metadata": {},
   "outputs": [],
   "source": [
    "\n",
    "# environment = os.getenv(\"ENV\", \"prod\")\n",
    "# device = select_device()\n",
    "\n",
    "# print(\"SEGMENT_SELECTED_DEVICE:\", device)\n",
    "\n",
    "# input = request.get_json()\n",
    "# image_url = input[\"image\"]\n",
    "# storage_token = input[\"storageRefsToken\"]\n",
    "\n",
    "# cache_file_path = generate_cache_file_path(image_url)\n",
    "\n",
    "# try:\n",
    "#     response = requests.get(image_url)\n",
    "\n",
    "#     print(f\"Image URL Response Code: {response.status_code}\")\n",
    "\n",
    "image_dir = '/Users/jamesemilian/Desktop/cronus-ai/figure8/anomaly_detect/data/coco_data_prep/coco_val_1pct/data'\n",
    "model_config = \"configs/sam2.1/sam2.1_hiera_t.yaml\" # Default model config\n",
    "model_checkpoint = \"checkpoints/sam2.1_hiera_tiny.pt\" # Default checkpoint\n",
    "device_str = \"auto\"\n",
    "mask_gen_kwargs = None\n",
    "\n",
    "image = image_rgb\n",
    "image_width, image_height = image.size\n",
    "image_np = np.array(image)\n",
    "\n",
    "print(\"Start Mask Generator\")\n",
    "# print(\"Cache File Path\", cache_file_path)\n",
    "\n",
    "# has_cached_data = fetch_from_cds(cache_file_path, storage_token)\n",
    "# if has_cached_data is not None:\n",
    "#     sam_result = has_cached_data\n",
    "# else:\n",
    "    sam2 = build_sam2(\n",
    "        model_config, model_checkpoint, device=device, apply_postprocessing=False\n",
    "    )\n",
    "\n",
    "    if environment == \"dev\":\n",
    "        mask_generator = SAM2AutomaticMaskGenerator(sam2)\n",
    "    else:\n",
    "        # This configuration generates better masks\n",
    "        # However, without using cuda there is a performance issue\n",
    "        # Since not all devices support cuda\n",
    "        # Only prod need to use this configuration\n",
    "        mask_generator = SAM2AutomaticMaskGenerator(\n",
    "            model=sam2,\n",
    "            points_per_side=64,\n",
    "            points_per_batch=128,\n",
    "            pred_iou_thresh=0.7,\n",
    "            stability_score_thresh=0.92,\n",
    "            stability_score_offset=0.7,\n",
    "            crop_n_layers=1,\n",
    "            box_nms_thresh=0.7,\n",
    "            crop_n_points_downscale_factor=2,\n",
    "            min_mask_region_area=25.0,\n",
    "            use_m2m=True,\n",
    "        )\n",
    "\n",
    "    sam_result = mask_generator.generate(image_np)\n",
    "    save_to_cds(cache_file_path, sam_result, storage_token)\n",
    "\n",
    "print(\"Mask Generator Finished\")\n",
    "\n",
    "mask_data_list = []\n",
    "for idx, mask_data in enumerate(sam_result):\n",
    "    mask_info = {\n",
    "        \"id\": idx,\n",
    "        \"bounding_boxes\": mask_data[\"bbox\"],\n",
    "        \"point_coords\": mask_data[\"point_coords\"],\n",
    "        \"segmentation\": mask_data[\"segmentation\"],\n",
    "    }\n",
    "    mask_data_list.append(mask_info)\n",
    "\n",
    "print(\"Generate polygons from masks\", len(mask_data_list))\n",
    "valid_polygons = generate_polygons_from_masks(\n",
    "    mask_data_list, image_width, image_height\n",
    ")\n",
    "\n",
    "final_response = {\"masks\": valid_polygons}\n",
    "\n",
    "return final_response\n",
    "\n",
    "except Exception as e:\n",
    "message = f\"Failed to predict segmentation: {e}\"\n",
    "return build_response_error(message)"
   ]
  },
  {
   "cell_type": "code",
   "execution_count": 38,
   "metadata": {},
   "outputs": [
    {
     "data": {
      "text/plain": [
       "(427, 640, 3)"
      ]
     },
     "execution_count": 38,
     "metadata": {},
     "output_type": "execute_result"
    }
   ],
   "source": [
    "image_rgb.shape"
   ]
  },
  {
   "cell_type": "code",
   "execution_count": 3,
   "metadata": {},
   "outputs": [
    {
     "name": "stdout",
     "output_type": "stream",
     "text": [
      "  % Total    % Received % Xferd  Average Speed   Time    Time     Time  Current\n",
      "                                 Dload  Upload   Total   Spent    Left  Speed\n",
      "100 51780  100 51696  100    84   3624      5  0:00:16  0:00:14  0:00:02 12869    0     13  0:00:06  0:00:06 --:--:--     00:00:12  0:00:02     0\n"
     ]
    }
   ],
   "source": [
    "!curl -X POST http://localhost:8000/api/v1/generate_masks -H \"Content-Type: application/json\" -d '{\"image\": \"http://localhost:9000/000000274036.jpg\",\"storageRefsToken\": \"test-token\"}' > segmentation_result.json"
   ]
  },
  {
   "cell_type": "markdown",
   "metadata": {},
   "source": [
    "let's take a look at the segmentation:"
   ]
  },
  {
   "cell_type": "code",
   "execution_count": null,
   "metadata": {},
   "outputs": [],
   "source": []
  },
  {
   "cell_type": "code",
   "execution_count": 4,
   "metadata": {},
   "outputs": [
    {
     "name": "stdout",
     "output_type": "stream",
     "text": [
      "Requirement already satisfied: requests in /Users/jamesemilian/miniforge3/envs/viss/lib/python3.10/site-packages (2.32.3)\n",
      "Requirement already satisfied: Pillow in /Users/jamesemilian/miniforge3/envs/viss/lib/python3.10/site-packages (11.2.1)\n",
      "Requirement already satisfied: numpy in /Users/jamesemilian/miniforge3/envs/viss/lib/python3.10/site-packages (1.26.4)\n",
      "Requirement already satisfied: opencv-python in /Users/jamesemilian/miniforge3/envs/viss/lib/python3.10/site-packages (4.11.0.86)\n",
      "Requirement already satisfied: matplotlib in /Users/jamesemilian/miniforge3/envs/viss/lib/python3.10/site-packages (3.10.1)\n",
      "Requirement already satisfied: charset-normalizer<4,>=2 in /Users/jamesemilian/miniforge3/envs/viss/lib/python3.10/site-packages (from requests) (3.4.1)\n",
      "Requirement already satisfied: idna<4,>=2.5 in /Users/jamesemilian/miniforge3/envs/viss/lib/python3.10/site-packages (from requests) (3.10)\n",
      "Requirement already satisfied: urllib3<3,>=1.21.1 in /Users/jamesemilian/miniforge3/envs/viss/lib/python3.10/site-packages (from requests) (2.4.0)\n",
      "Requirement already satisfied: certifi>=2017.4.17 in /Users/jamesemilian/miniforge3/envs/viss/lib/python3.10/site-packages (from requests) (2025.1.31)\n",
      "Requirement already satisfied: contourpy>=1.0.1 in /Users/jamesemilian/miniforge3/envs/viss/lib/python3.10/site-packages (from matplotlib) (1.3.2)\n",
      "Requirement already satisfied: cycler>=0.10 in /Users/jamesemilian/miniforge3/envs/viss/lib/python3.10/site-packages (from matplotlib) (0.12.1)\n",
      "Requirement already satisfied: fonttools>=4.22.0 in /Users/jamesemilian/miniforge3/envs/viss/lib/python3.10/site-packages (from matplotlib) (4.57.0)\n",
      "Requirement already satisfied: kiwisolver>=1.3.1 in /Users/jamesemilian/miniforge3/envs/viss/lib/python3.10/site-packages (from matplotlib) (1.4.8)\n",
      "Requirement already satisfied: packaging>=20.0 in /Users/jamesemilian/miniforge3/envs/viss/lib/python3.10/site-packages (from matplotlib) (24.2)\n",
      "Requirement already satisfied: pyparsing>=2.3.1 in /Users/jamesemilian/miniforge3/envs/viss/lib/python3.10/site-packages (from matplotlib) (3.2.3)\n",
      "Requirement already satisfied: python-dateutil>=2.7 in /Users/jamesemilian/miniforge3/envs/viss/lib/python3.10/site-packages (from matplotlib) (2.9.0.post0)\n",
      "Requirement already satisfied: six>=1.5 in /Users/jamesemilian/miniforge3/envs/viss/lib/python3.10/site-packages (from python-dateutil>=2.7->matplotlib) (1.17.0)\n"
     ]
    }
   ],
   "source": [
    "!pip install requests Pillow numpy opencv-python matplotlib"
   ]
  },
  {
   "cell_type": "code",
   "execution_count": 9,
   "metadata": {},
   "outputs": [
    {
     "data": {
      "text/plain": [
       "4"
      ]
     },
     "execution_count": 9,
     "metadata": {},
     "output_type": "execute_result"
    }
   ],
   "source": [
    "2+2"
   ]
  },
  {
   "cell_type": "code",
   "execution_count": 1,
   "metadata": {},
   "outputs": [
    {
     "name": "stderr",
     "output_type": "stream",
     "text": [
      "usage: ipykernel_launcher.py [-h] [--show-bboxes] json_path image_location\n",
      "ipykernel_launcher.py: error: the following arguments are required: json_path, image_location\n"
     ]
    },
    {
     "ename": "SystemExit",
     "evalue": "2",
     "output_type": "error",
     "traceback": [
      "An exception has occurred, use %tb to see the full traceback.\n",
      "\u001b[0;31mSystemExit\u001b[0m\u001b[0;31m:\u001b[0m 2\n"
     ]
    },
    {
     "name": "stderr",
     "output_type": "stream",
     "text": [
      "/Users/jamesemilian/miniforge3/envs/viss/lib/python3.10/site-packages/IPython/core/interactiveshell.py:3587: UserWarning: To exit: use 'exit', 'quit', or Ctrl-D.\n",
      "  warn(\"To exit: use 'exit', 'quit', or Ctrl-D.\", stacklevel=1)\n"
     ]
    }
   ],
   "source": [
    "import json\n",
    "import requests\n",
    "from PIL import Image, UnidentifiedImageError\n",
    "import numpy as np\n",
    "import cv2 # OpenCV for drawing\n",
    "import matplotlib.pyplot as plt\n",
    "import io\n",
    "import os\n",
    "import argparse # Added for command-line arguments\n",
    "\n",
    "def visualize_segmentation(json_path, image_url_or_path, show_bboxes=False):\n",
    "    \"\"\"\n",
    "    Loads segmentation results from a JSON file and visualizes the masks\n",
    "    (and optionally bounding boxes) on the corresponding image.\n",
    "\n",
    "    Args:\n",
    "        json_path (str): Path to the segmentation_result.json file.\n",
    "        image_url_or_path (str): The URL or local file path of the original image.\n",
    "        show_bboxes (bool): If True, draw bounding boxes around the masks.\n",
    "    \"\"\"\n",
    "    # --- 1. Load the Segmentation Data ---\n",
    "    try:\n",
    "        with open(json_path, 'r') as f:\n",
    "            data = json.load(f)\n",
    "        masks_data = data.get(\"masks\")\n",
    "        if masks_data is None:\n",
    "            print(f\"Error: 'masks' key not found in {json_path}\")\n",
    "            return\n",
    "        if not isinstance(masks_data, list):\n",
    "             print(f\"Error: 'masks' key in {json_path} is not a list.\")\n",
    "             return\n",
    "        print(f\"Loaded {len(masks_data)} mask entries from {json_path}\")\n",
    "    except FileNotFoundError:\n",
    "        print(f\"Error: JSON file not found at {json_path}\")\n",
    "        return\n",
    "    except json.JSONDecodeError:\n",
    "        print(f\"Error: Could not decode JSON from {json_path}\")\n",
    "        return\n",
    "    except Exception as e:\n",
    "        print(f\"An unexpected error occurred loading JSON: {e}\")\n",
    "        return\n",
    "\n",
    "    # --- 2. Load the Original Image ---\n",
    "    try:\n",
    "        if image_url_or_path.startswith(('http://', 'https://')):\n",
    "            print(f\"Fetching image from URL: {image_url_or_path}\")\n",
    "            response = requests.get(image_url_or_path, stream=True, timeout=10)\n",
    "            response.raise_for_status()\n",
    "            img_pil = Image.open(io.BytesIO(response.content))\n",
    "        else:\n",
    "            print(f\"Loading image from local path: {image_url_or_path}\")\n",
    "            if not os.path.exists(image_url_or_path):\n",
    "                 print(f\"Error: Image file not found at {image_url_or_path}\")\n",
    "                 return\n",
    "            img_pil = Image.open(image_url_or_path)\n",
    "\n",
    "        image_np = np.array(img_pil.convert('RGB'))\n",
    "        print(f\"Image loaded successfully. Shape: {image_np.shape}\")\n",
    "\n",
    "    except requests.exceptions.RequestException as e:\n",
    "        print(f\"Error fetching image URL {image_url_or_path}: {e}\")\n",
    "        return\n",
    "    except FileNotFoundError:\n",
    "        print(f\"Error: Image file not found at {image_url_or_path}\")\n",
    "        return\n",
    "    except UnidentifiedImageError:\n",
    "        print(f\"Error: Could not identify or open image file/data from {image_url_or_path}\")\n",
    "        return\n",
    "    except Exception as e:\n",
    "        print(f\"An unexpected error occurred loading the image: {e}\")\n",
    "        return\n",
    "\n",
    "    # --- 3. Draw Masks and BBoxes on the Image ---\n",
    "    overlay = image_np.copy()\n",
    "    output = image_np.copy() # Draw bboxes directly onto this later if needed\n",
    "    alpha = 0.5\n",
    "    num_masks = len(masks_data)\n",
    "    colors = plt.cm.viridis(np.linspace(0, 1, num_masks))[:, :3]\n",
    "    bbox_color_bgr = (0, 255, 0) # Green for BBoxes (BGR format for OpenCV)\n",
    "    bbox_thickness = 2\n",
    "\n",
    "    mask_count = 0\n",
    "    bbox_count = 0\n",
    "    for i, mask_info in enumerate(masks_data):\n",
    "        polygon_points = mask_info.get(\"polygon\")\n",
    "        # Use \"bounding_boxes\" key, expecting [xmin, ymin, width, height] format\n",
    "        bbox_data = mask_info.get(\"bounding_boxes\")\n",
    "\n",
    "        # Draw Polygon (Mask)\n",
    "        if polygon_points and isinstance(polygon_points, list) and len(polygon_points) >= 3:\n",
    "            try:\n",
    "                pts = np.array(polygon_points, dtype=np.int32).reshape((-1, 1, 2))\n",
    "                color_rgb_0_1 = colors[i]\n",
    "                color_bgr_0_255 = tuple(int(c * 255) for c in color_rgb_0_1[::-1])\n",
    "                cv2.fillPoly(overlay, [pts], color_bgr_0_255)\n",
    "                mask_count += 1\n",
    "            except ValueError as e:\n",
    "                 print(f\"Warning: Skipping mask {i} polygon due to error converting points: {e}\")\n",
    "                 continue # Skip to next mask if polygon is bad\n",
    "            except Exception as e:\n",
    "                 print(f\"Warning: An unexpected error occurred drawing mask {i} polygon: {e}\")\n",
    "                 continue # Skip to next mask if polygon drawing fails\n",
    "        else:\n",
    "            print(f\"Warning: Skipping mask {i} polygon due to missing or invalid 'polygon' data.\")\n",
    "            # Continue to potentially draw bbox even if polygon is missing/invalid\n",
    "\n",
    "        # Draw Bounding Box (if requested and available)\n",
    "        if show_bboxes:\n",
    "            if bbox_data and isinstance(bbox_data, list) and len(bbox_data) == 4:\n",
    "                try:\n",
    "                    x_min, y_min, width, height = map(int, bbox_data)\n",
    "                    x_max = x_min + width\n",
    "                    y_max = y_min + height\n",
    "                    # Draw rectangle directly on the 'output' image (before blending)\n",
    "                    cv2.rectangle(output, (x_min, y_min), (x_max, y_max), bbox_color_bgr, bbox_thickness)\n",
    "                    bbox_count += 1\n",
    "                except (ValueError, TypeError) as e:\n",
    "                    print(f\"Warning: Skipping bbox for mask {i} due to invalid data format: {e}. Data: {bbox_data}\")\n",
    "                except Exception as e:\n",
    "                     print(f\"Warning: An unexpected error occurred drawing bbox {i}: {e}\")\n",
    "            else:\n",
    "                # Only warn if bbox was expected but not found/valid\n",
    "                print(f\"Warning: Skipping bbox for mask {i} due to missing or invalid 'bounding_boxes' data. Found: {bbox_data}\")\n",
    "\n",
    "    # Blend the overlay (masks) with the output image (original + bboxes)\n",
    "    cv2.addWeighted(overlay, alpha, output, 1 - alpha, 0, output)\n",
    "\n",
    "    print(f\"Drew {mask_count} valid masks\" + (f\" and {bbox_count} valid bounding boxes.\" if show_bboxes else \" onto the image.\"))\n",
    "\n",
    "    # --- 4. Display the Result ---\n",
    "    plt.figure(figsize=(12, 10))\n",
    "    plt.imshow(output)\n",
    "    title = f\"Segmentation Masks from {os.path.basename(json_path)} on {os.path.basename(image_url_or_path)}\"\n",
    "    if show_bboxes:\n",
    "        title += \" (with Bounding Boxes)\"\n",
    "    plt.title(title)\n",
    "    plt.axis('off')\n",
    "    plt.tight_layout()\n",
    "    plt.show()\n",
    "\n",
    "# --- Main execution block with argparse ---\n",
    "if __name__ == \"__main__\":\n",
    "    # --- Argument Parser Setup ---\n",
    "    parser = argparse.ArgumentParser(description=\"Visualize segmentation masks (and optionally bounding boxes) from a JSON file on an image.\")\n",
    "    # Required positional arguments\n",
    "    parser.add_argument(\"json_path\", help=\"Path to the segmentation_result.json file.\")\n",
    "    parser.add_argument(\"image_location\", help=\"URL or local file path of the original image.\")\n",
    "    # Optional flag\n",
    "    parser.add_argument(\"--show-bboxes\", action=\"store_true\", help=\"Display bounding boxes in addition to masks.\")\n",
    "\n",
    "    args = parser.parse_args()\n",
    "\n",
    "    # --- Run Visualization --- Pass the command line arg to the function\n",
    "    # visualize_segmentation('/Users/jamesemilian/Desktop/cronus-ai/figure8/anomaly_detect/sam2/segmentation_result.json', 'http://localhost:9000/000000274036.jpg', True)"
   ]
  },
  {
   "cell_type": "code",
   "execution_count": 17,
   "metadata": {},
   "outputs": [
    {
     "name": "stdout",
     "output_type": "stream",
     "text": [
      "An unexpected error occurred loading JSON: load() missing 1 required positional argument: 'fp'\n"
     ]
    }
   ],
   "source": [
    "!python visualise_segmentation.py segmentation_result.json http://localhost:9000/000000274036.jpg --show-bboxes"
   ]
  },
  {
   "cell_type": "markdown",
   "metadata": {},
   "source": []
  }
 ],
 "metadata": {
  "language_info": {
   "name": "python"
  }
 },
 "nbformat": 4,
 "nbformat_minor": 2
}
